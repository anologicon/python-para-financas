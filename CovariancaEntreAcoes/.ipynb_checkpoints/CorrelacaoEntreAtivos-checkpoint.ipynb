{
 "cells": [
  {
   "cell_type": "code",
   "execution_count": 3,
   "metadata": {},
   "outputs": [],
   "source": [
    "import numpy as np\n",
    "import pandas as pd\n",
    "from pandas_datareader import data as wb"
   ]
  },
  {
   "cell_type": "code",
   "execution_count": 4,
   "metadata": {},
   "outputs": [],
   "source": [
    "tickers = ['BBDC4.SA', 'ABEV3.SA','PETR4.SA', 'ELET3.SA']\n",
    "\n",
    "portifolio = pd.DataFrame();\n",
    "for t in tickers:\n",
    "    portifolio[t] = wb.DataReader(t, data_source='yahoo', start='1995-1-1')['Adj Close']"
   ]
  },
  {
   "cell_type": "code",
   "execution_count": null,
   "metadata": {},
   "outputs": [],
   "source": [
    "cov_matrix_a = portifolio.cov() * 250\n",
    "cov_matrix_a"
   ]
  },
  {
   "cell_type": "code",
   "execution_count": 5,
   "metadata": {},
   "outputs": [
    {
     "data": {
      "text/html": [
       "<div>\n",
       "<style scoped>\n",
       "    .dataframe tbody tr th:only-of-type {\n",
       "        vertical-align: middle;\n",
       "    }\n",
       "\n",
       "    .dataframe tbody tr th {\n",
       "        vertical-align: top;\n",
       "    }\n",
       "\n",
       "    .dataframe thead th {\n",
       "        text-align: right;\n",
       "    }\n",
       "</style>\n",
       "<table border=\"1\" class=\"dataframe\">\n",
       "  <thead>\n",
       "    <tr style=\"text-align: right;\">\n",
       "      <th></th>\n",
       "      <th>BBDC4.SA</th>\n",
       "      <th>ABEV3.SA</th>\n",
       "      <th>PETR4.SA</th>\n",
       "      <th>ELET3.SA</th>\n",
       "    </tr>\n",
       "  </thead>\n",
       "  <tbody>\n",
       "    <tr>\n",
       "      <th>BBDC4.SA</th>\n",
       "      <td>1.000000</td>\n",
       "      <td>0.614334</td>\n",
       "      <td>0.231725</td>\n",
       "      <td>0.719259</td>\n",
       "    </tr>\n",
       "    <tr>\n",
       "      <th>ABEV3.SA</th>\n",
       "      <td>0.614334</td>\n",
       "      <td>1.000000</td>\n",
       "      <td>-0.540843</td>\n",
       "      <td>0.017278</td>\n",
       "    </tr>\n",
       "    <tr>\n",
       "      <th>PETR4.SA</th>\n",
       "      <td>0.231725</td>\n",
       "      <td>-0.540843</td>\n",
       "      <td>1.000000</td>\n",
       "      <td>0.632345</td>\n",
       "    </tr>\n",
       "    <tr>\n",
       "      <th>ELET3.SA</th>\n",
       "      <td>0.719259</td>\n",
       "      <td>0.017278</td>\n",
       "      <td>0.632345</td>\n",
       "      <td>1.000000</td>\n",
       "    </tr>\n",
       "  </tbody>\n",
       "</table>\n",
       "</div>"
      ],
      "text/plain": [
       "          BBDC4.SA  ABEV3.SA  PETR4.SA  ELET3.SA\n",
       "BBDC4.SA  1.000000  0.614334  0.231725  0.719259\n",
       "ABEV3.SA  0.614334  1.000000 -0.540843  0.017278\n",
       "PETR4.SA  0.231725 -0.540843  1.000000  0.632345\n",
       "ELET3.SA  0.719259  0.017278  0.632345  1.000000"
      ]
     },
     "execution_count": 5,
     "metadata": {},
     "output_type": "execute_result"
    }
   ],
   "source": [
    "corr_matriz = portifolio.corr()\n",
    "corr_matriz"
   ]
  },
  {
   "cell_type": "code",
   "execution_count": null,
   "metadata": {},
   "outputs": [],
   "source": []
  }
 ],
 "metadata": {
  "kernelspec": {
   "display_name": "Python 3",
   "language": "python",
   "name": "python3"
  },
  "language_info": {
   "codemirror_mode": {
    "name": "ipython",
    "version": 3
   },
   "file_extension": ".py",
   "mimetype": "text/x-python",
   "name": "python",
   "nbconvert_exporter": "python",
   "pygments_lexer": "ipython3",
   "version": "3.7.6"
  }
 },
 "nbformat": 4,
 "nbformat_minor": 4
}
