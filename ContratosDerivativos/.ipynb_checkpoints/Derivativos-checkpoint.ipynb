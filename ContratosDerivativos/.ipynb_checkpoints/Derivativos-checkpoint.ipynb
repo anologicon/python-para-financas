{
 "cells": [
  {
   "cell_type": "markdown",
   "metadata": {},
   "source": [
    "# Contratos derivativos"
   ]
  },
  {
   "cell_type": "markdown",
   "metadata": {},
   "source": [
    "## Contrato a termo\n",
    "\n",
    "Quando duas partes concordam que ira vender a outra um ativo subjacente em um momento futuro\n",
    "\n",
    "\n",
    "### Exemplo:\n",
    "\n",
    "Produto de milho pretende vender para uma fabrica com a entrega daqui a 3 meses\n",
    "mas com o preço fixado do milho HOJE"
   ]
  },
  {
   "cell_type": "markdown",
   "metadata": {},
   "source": [
    "## Futuros:\n",
    "\n",
    "É como o Contrato a termo, mas com mais padrnização, e as tranções são feitas via mercado, nenhuma das partes\n",
    "se veem"
   ]
  },
  {
   "cell_type": "markdown",
   "metadata": {},
   "source": [
    "## Opções\n",
    "\n",
    "Os contratos de opções podem ser exercidos até uma determinada data, você pode comprar ou vender a opção no futuro\n",
    "\n",
    "### Exemplo:\n",
    "\n",
    "Opção x:\n",
    "\n",
    "Preço atual da ação = 120\n",
    "Preço de exercício = 130\n",
    "Maturidade = 6 meses\n",
    "\n",
    "Quando chegar o fim dos 6 meses você pode decidir se quer ou não 'vender' exercer a opção. \n",
    "\n",
    "Exerce apenas se o preço da ação for > preço de exercício"
   ]
  },
  {
   "cell_type": "code",
   "execution_count": null,
   "metadata": {},
   "outputs": [],
   "source": []
  }
 ],
 "metadata": {
  "kernelspec": {
   "display_name": "Python 3",
   "language": "python",
   "name": "python3"
  },
  "language_info": {
   "codemirror_mode": {
    "name": "ipython",
    "version": 3
   },
   "file_extension": ".py",
   "mimetype": "text/x-python",
   "name": "python",
   "nbconvert_exporter": "python",
   "pygments_lexer": "ipython3",
   "version": "3.7.6"
  }
 },
 "nbformat": 4,
 "nbformat_minor": 4
}
