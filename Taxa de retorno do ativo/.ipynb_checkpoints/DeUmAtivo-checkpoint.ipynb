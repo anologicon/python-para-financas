{
 "cells": [
  {
   "cell_type": "code",
   "execution_count": 2,
   "metadata": {},
   "outputs": [],
   "source": [
    "import numpy as np\n",
    "from pandas_datareader import data as wb\n",
    "import matplotlib.pyplot as plt"
   ]
  },
  {
   "cell_type": "code",
   "execution_count": 3,
   "metadata": {},
   "outputs": [],
   "source": [
    "CIEL = wb.DataReader('CIEL3.SA', data_source='yahoo', start='1995-1-1')"
   ]
  },
  {
   "cell_type": "code",
   "execution_count": 4,
   "metadata": {},
   "outputs": [
    {
     "data": {
      "text/html": [
       "<div>\n",
       "<style scoped>\n",
       "    .dataframe tbody tr th:only-of-type {\n",
       "        vertical-align: middle;\n",
       "    }\n",
       "\n",
       "    .dataframe tbody tr th {\n",
       "        vertical-align: top;\n",
       "    }\n",
       "\n",
       "    .dataframe thead th {\n",
       "        text-align: right;\n",
       "    }\n",
       "</style>\n",
       "<table border=\"1\" class=\"dataframe\">\n",
       "  <thead>\n",
       "    <tr style=\"text-align: right;\">\n",
       "      <th></th>\n",
       "      <th>High</th>\n",
       "      <th>Low</th>\n",
       "      <th>Open</th>\n",
       "      <th>Close</th>\n",
       "      <th>Volume</th>\n",
       "      <th>Adj Close</th>\n",
       "    </tr>\n",
       "    <tr>\n",
       "      <th>Date</th>\n",
       "      <th></th>\n",
       "      <th></th>\n",
       "      <th></th>\n",
       "      <th></th>\n",
       "      <th></th>\n",
       "      <th></th>\n",
       "    </tr>\n",
       "  </thead>\n",
       "  <tbody>\n",
       "    <tr>\n",
       "      <th>2020-07-15</th>\n",
       "      <td>6.33</td>\n",
       "      <td>5.50</td>\n",
       "      <td>5.73</td>\n",
       "      <td>5.70</td>\n",
       "      <td>42200.0</td>\n",
       "      <td>5.70</td>\n",
       "    </tr>\n",
       "    <tr>\n",
       "      <th>2020-07-16</th>\n",
       "      <td>9.40</td>\n",
       "      <td>6.40</td>\n",
       "      <td>7.60</td>\n",
       "      <td>6.80</td>\n",
       "      <td>288200.0</td>\n",
       "      <td>6.80</td>\n",
       "    </tr>\n",
       "    <tr>\n",
       "      <th>2020-07-17</th>\n",
       "      <td>7.35</td>\n",
       "      <td>6.50</td>\n",
       "      <td>7.30</td>\n",
       "      <td>6.97</td>\n",
       "      <td>61200.0</td>\n",
       "      <td>6.97</td>\n",
       "    </tr>\n",
       "    <tr>\n",
       "      <th>2020-07-20</th>\n",
       "      <td>7.25</td>\n",
       "      <td>6.53</td>\n",
       "      <td>7.25</td>\n",
       "      <td>6.80</td>\n",
       "      <td>16200.0</td>\n",
       "      <td>6.80</td>\n",
       "    </tr>\n",
       "    <tr>\n",
       "      <th>2020-07-21</th>\n",
       "      <td>6.89</td>\n",
       "      <td>6.42</td>\n",
       "      <td>6.89</td>\n",
       "      <td>6.49</td>\n",
       "      <td>9900.0</td>\n",
       "      <td>6.49</td>\n",
       "    </tr>\n",
       "  </tbody>\n",
       "</table>\n",
       "</div>"
      ],
      "text/plain": [
       "            High   Low  Open  Close    Volume  Adj Close\n",
       "Date                                                    \n",
       "2020-07-15  6.33  5.50  5.73   5.70   42200.0       5.70\n",
       "2020-07-16  9.40  6.40  7.60   6.80  288200.0       6.80\n",
       "2020-07-17  7.35  6.50  7.30   6.97   61200.0       6.97\n",
       "2020-07-20  7.25  6.53  7.25   6.80   16200.0       6.80\n",
       "2020-07-21  6.89  6.42  6.89   6.49    9900.0       6.49"
      ]
     },
     "execution_count": 4,
     "metadata": {},
     "output_type": "execute_result"
    }
   ],
   "source": [
    "CIEL.tail()"
   ]
  },
  {
   "cell_type": "markdown",
   "metadata": {},
   "source": [
    "# Taxa simples de retorno\n",
    "\n",
    "*P1 / P0 - 1*"
   ]
  },
  {
   "cell_type": "code",
   "execution_count": 5,
   "metadata": {},
   "outputs": [],
   "source": [
    "CIEL['tx_retorno_simples'] = (CIEL['Adj Close'] / CIEL['Adj Close'].shift(1)) - 1"
   ]
  },
  {
   "cell_type": "code",
   "execution_count": 6,
   "metadata": {},
   "outputs": [
    {
     "data": {
      "image/png": "[encoded data removed]",
      "text/plain": [
       "<Figure size 576x360 with 1 Axes>"
      ]
     },
     "metadata": {
      "needs_background": "light"
     },
     "output_type": "display_data"
    }
   ],
   "source": [
    "CIEL['tx_retorno_simples'].plot(figsize=(8,5))\n",
    "\n",
    "plt.show()"
   ]
  },
  {
   "cell_type": "markdown",
   "metadata": {},
   "source": [
    "## Taxa média de retorno diaria"
   ]
  },
  {
   "cell_type": "code",
   "execution_count": 13,
   "metadata": {},
   "outputs": [
    {
     "data": {
      "text/plain": [
       "0.0005112876340041664"
      ]
     },
     "execution_count": 13,
     "metadata": {},
     "output_type": "execute_result"
    }
   ],
   "source": [
    "media_dia_returno = CIEL['tx_retorno_simples'].mean()\n",
    "media_dia_returno"
   ]
  },
  {
   "cell_type": "markdown",
   "metadata": {},
   "source": [
    "## Taxa media de retorno anual\n",
    "\n",
    "*250* são a quantidade de dias por ano, mas somente dias que a bolsa funciona."
   ]
  },
  {
   "cell_type": "code",
   "execution_count": 19,
   "metadata": {},
   "outputs": [
    {
     "name": "stdout",
     "output_type": "stream",
     "text": [
      "12.781999999999998%\n"
     ]
    }
   ],
   "source": [
    "media_ano_retorno = CIEL['tx_retorno_simples'].mean() * 250\n",
    "print(str(round(media_ano_retorno,5) * 100 ) + '%')"
   ]
  },
  {
   "cell_type": "markdown",
   "metadata": {},
   "source": [
    "# Taxa de retorno logaritmica\n",
    "\n",
    "*ln(P1/Pt-1)*"
   ]
  },
  {
   "cell_type": "code",
   "execution_count": 11,
   "metadata": {},
   "outputs": [],
   "source": [
    "BBDC = wb.DataReader('MNPR3.SA', data_source='yahoo', start='1995-1-1')"
   ]
  },
  {
   "cell_type": "code",
   "execution_count": 12,
   "metadata": {},
   "outputs": [
    {
     "data": {
      "text/html": [
       "<div>\n",
       "<style scoped>\n",
       "    .dataframe tbody tr th:only-of-type {\n",
       "        vertical-align: middle;\n",
       "    }\n",
       "\n",
       "    .dataframe tbody tr th {\n",
       "        vertical-align: top;\n",
       "    }\n",
       "\n",
       "    .dataframe thead th {\n",
       "        text-align: right;\n",
       "    }\n",
       "</style>\n",
       "<table border=\"1\" class=\"dataframe\">\n",
       "  <thead>\n",
       "    <tr style=\"text-align: right;\">\n",
       "      <th></th>\n",
       "      <th>High</th>\n",
       "      <th>Low</th>\n",
       "      <th>Open</th>\n",
       "      <th>Close</th>\n",
       "      <th>Volume</th>\n",
       "      <th>Adj Close</th>\n",
       "    </tr>\n",
       "    <tr>\n",
       "      <th>Date</th>\n",
       "      <th></th>\n",
       "      <th></th>\n",
       "      <th></th>\n",
       "      <th></th>\n",
       "      <th></th>\n",
       "      <th></th>\n",
       "    </tr>\n",
       "  </thead>\n",
       "  <tbody>\n",
       "    <tr>\n",
       "      <th>2000-01-03</th>\n",
       "      <td>2729560.0</td>\n",
       "      <td>2488710.0</td>\n",
       "      <td>2729560.0</td>\n",
       "      <td>2488710.0</td>\n",
       "      <td>4.0</td>\n",
       "      <td>2488710.0</td>\n",
       "    </tr>\n",
       "    <tr>\n",
       "      <th>2000-01-04</th>\n",
       "      <td>3532370.0</td>\n",
       "      <td>2488710.0</td>\n",
       "      <td>2488710.0</td>\n",
       "      <td>3050680.0</td>\n",
       "      <td>14.0</td>\n",
       "      <td>3050680.0</td>\n",
       "    </tr>\n",
       "    <tr>\n",
       "      <th>2000-01-05</th>\n",
       "      <td>4816860.0</td>\n",
       "      <td>3211240.0</td>\n",
       "      <td>3291520.0</td>\n",
       "      <td>4816860.0</td>\n",
       "      <td>15.0</td>\n",
       "      <td>4816860.0</td>\n",
       "    </tr>\n",
       "    <tr>\n",
       "      <th>2000-01-06</th>\n",
       "      <td>7385860.0</td>\n",
       "      <td>4816860.0</td>\n",
       "      <td>4816860.0</td>\n",
       "      <td>6422480.0</td>\n",
       "      <td>15.0</td>\n",
       "      <td>6422480.0</td>\n",
       "    </tr>\n",
       "    <tr>\n",
       "      <th>2000-01-07</th>\n",
       "      <td>6823890.0</td>\n",
       "      <td>5218270.0</td>\n",
       "      <td>6823890.0</td>\n",
       "      <td>5619670.0</td>\n",
       "      <td>3.0</td>\n",
       "      <td>5619670.0</td>\n",
       "    </tr>\n",
       "  </tbody>\n",
       "</table>\n",
       "</div>"
      ],
      "text/plain": [
       "                 High        Low       Open      Close  Volume  Adj Close\n",
       "Date                                                                     \n",
       "2000-01-03  2729560.0  2488710.0  2729560.0  2488710.0     4.0  2488710.0\n",
       "2000-01-04  3532370.0  2488710.0  2488710.0  3050680.0    14.0  3050680.0\n",
       "2000-01-05  4816860.0  3211240.0  3291520.0  4816860.0    15.0  4816860.0\n",
       "2000-01-06  7385860.0  4816860.0  4816860.0  6422480.0    15.0  6422480.0\n",
       "2000-01-07  6823890.0  5218270.0  6823890.0  5619670.0     3.0  5619670.0"
      ]
     },
     "execution_count": 12,
     "metadata": {},
     "output_type": "execute_result"
    }
   ],
   "source": [
    "BBDC.head()"
   ]
  },
  {
   "cell_type": "code",
   "execution_count": 13,
   "metadata": {},
   "outputs": [
    {
     "name": "stdout",
     "output_type": "stream",
     "text": [
      "Date\n",
      "2000-01-03         NaN\n",
      "2000-01-04    0.203600\n",
      "2000-01-05    0.456758\n",
      "2000-01-06    0.287682\n",
      "2000-01-07   -0.133531\n",
      "                ...   \n",
      "2020-07-15    0.068993\n",
      "2020-07-16    0.176456\n",
      "2020-07-17    0.024693\n",
      "2020-07-20   -0.024693\n",
      "2020-07-21   -0.046660\n",
      "Name: log_retorno, Length: 4581, dtype: float64\n"
     ]
    }
   ],
   "source": [
    "BBDC['log_retorno'] = np.log(BBDC['Adj Close'] / BBDC['Adj Close'].shift(1))\n",
    "\n",
    "print(BBDC['log_retorno'])"
   ]
  },
  {
   "cell_type": "code",
   "execution_count": 14,
   "metadata": {},
   "outputs": [
    {
     "data": {
      "image/png": "[encoded data removed]",
      "text/plain": [
       "<Figure size 576x360 with 1 Axes>"
      ]
     },
     "metadata": {
      "needs_background": "light"
     },
     "output_type": "display_data"
    }
   ],
   "source": [
    "BBDC['log_retorno'].plot(figsize=(8, 5))\n",
    "\n",
    "plt.show()"
   ]
  },
  {
   "cell_type": "code",
   "execution_count": 55,
   "metadata": {},
   "outputs": [
    {
     "data": {
      "text/plain": [
       "0.00019464212289735093"
      ]
     },
     "execution_count": 55,
     "metadata": {},
     "output_type": "execute_result"
    }
   ],
   "source": [
    "log_return_d = BBDC['log_retorno'].mean()\n",
    "log_return_d"
   ]
  },
  {
   "cell_type": "code",
   "execution_count": 56,
   "metadata": {},
   "outputs": [
    {
     "data": {
      "text/plain": [
       "0.00408748458084437"
      ]
     },
     "execution_count": 56,
     "metadata": {},
     "output_type": "execute_result"
    }
   ],
   "source": [
    "log_return_m = BBDC['log_retorno'].mean() * 21\n",
    "log_return_m"
   ]
  },
  {
   "cell_type": "code",
   "execution_count": 57,
   "metadata": {},
   "outputs": [
    {
     "data": {
      "text/plain": [
       "0.048660530724337736"
      ]
     },
     "execution_count": 57,
     "metadata": {},
     "output_type": "execute_result"
    }
   ],
   "source": [
    "log_return_a = BBDC['log_retorno'].mean()*250\n",
    "log_return_a"
   ]
  },
  {
   "cell_type": "code",
   "execution_count": 58,
   "metadata": {},
   "outputs": [
    {
     "name": "stdout",
     "output_type": "stream",
     "text": [
      "4.9 %\n"
     ]
    }
   ],
   "source": [
    "print(str(round(log_return_a, 3) * 100) + ' %')"
   ]
  },
  {
   "cell_type": "markdown",
   "metadata": {},
   "source": [
    "# LEMBRE-SE\n",
    "\n",
    "## Log é utilizado no calculo de retorno de uma unica ação\n",
    "\n",
    "## Simples para varias ações"
   ]
  },
  {
   "cell_type": "code",
   "execution_count": null,
   "metadata": {},
   "outputs": [],
   "source": []
  }
 ],
 "metadata": {
  "kernelspec": {
   "display_name": "Python 3",
   "language": "python",
   "name": "python3"
  },
  "language_info": {
   "codemirror_mode": {
    "name": "ipython",
    "version": 3
   },
   "file_extension": ".py",
   "mimetype": "text/x-python",
   "name": "python",
   "nbconvert_exporter": "python",
   "pygments_lexer": "ipython3",
   "version": "3.7.6"
  }
 },
 "nbformat": 4,
 "nbformat_minor": 4
}
