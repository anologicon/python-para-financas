{
 "cells": [
  {
   "cell_type": "code",
   "execution_count": 1,
   "metadata": {},
   "outputs": [],
   "source": [
    "import numpy as np\n",
    "import pandas as pd\n",
    "from pandas_datareader import data as wb"
   ]
  },
  {
   "cell_type": "code",
   "execution_count": 17,
   "metadata": {},
   "outputs": [],
   "source": [
    "tickers = ['CIEL3.SA','OIBR3.SA','^BVSP']\n",
    "\n",
    "data = pd.DataFrame()\n",
    "for t in tickers:\n",
    "    data[t] = wb.DataReader(t, data_source='yahoo', start='2012-1-1', end='2016-12-31')['Adj Close']"
   ]
  },
  {
   "cell_type": "code",
   "execution_count": 18,
   "metadata": {},
   "outputs": [],
   "source": [
    "retorno = np.log(data / data.shift(1))"
   ]
  },
  {
   "cell_type": "code",
   "execution_count": 19,
   "metadata": {},
   "outputs": [
    {
     "data": {
      "text/html": [
       "<div>\n",
       "<style scoped>\n",
       "    .dataframe tbody tr th:only-of-type {\n",
       "        vertical-align: middle;\n",
       "    }\n",
       "\n",
       "    .dataframe tbody tr th {\n",
       "        vertical-align: top;\n",
       "    }\n",
       "\n",
       "    .dataframe thead th {\n",
       "        text-align: right;\n",
       "    }\n",
       "</style>\n",
       "<table border=\"1\" class=\"dataframe\">\n",
       "  <thead>\n",
       "    <tr style=\"text-align: right;\">\n",
       "      <th></th>\n",
       "      <th>CIEL3.SA</th>\n",
       "      <th>OIBR3.SA</th>\n",
       "      <th>^BVSP</th>\n",
       "    </tr>\n",
       "  </thead>\n",
       "  <tbody>\n",
       "    <tr>\n",
       "      <th>CIEL3.SA</th>\n",
       "      <td>0.088073</td>\n",
       "      <td>0.027013</td>\n",
       "      <td>0.031563</td>\n",
       "    </tr>\n",
       "    <tr>\n",
       "      <th>OIBR3.SA</th>\n",
       "      <td>0.027013</td>\n",
       "      <td>0.537927</td>\n",
       "      <td>0.049479</td>\n",
       "    </tr>\n",
       "    <tr>\n",
       "      <th>^BVSP</th>\n",
       "      <td>0.031563</td>\n",
       "      <td>0.049479</td>\n",
       "      <td>0.054915</td>\n",
       "    </tr>\n",
       "  </tbody>\n",
       "</table>\n",
       "</div>"
      ],
      "text/plain": [
       "          CIEL3.SA  OIBR3.SA     ^BVSP\n",
       "CIEL3.SA  0.088073  0.027013  0.031563\n",
       "OIBR3.SA  0.027013  0.537927  0.049479\n",
       "^BVSP     0.031563  0.049479  0.054915"
      ]
     },
     "execution_count": 19,
     "metadata": {},
     "output_type": "execute_result"
    }
   ],
   "source": [
    "cov = retorno.cov() * 250\n",
    "cov"
   ]
  },
  {
   "cell_type": "code",
   "execution_count": 25,
   "metadata": {},
   "outputs": [
    {
     "data": {
      "text/plain": [
       "0.049478635341093855"
      ]
     },
     "execution_count": 25,
     "metadata": {},
     "output_type": "execute_result"
    }
   ],
   "source": [
    "cov_with_market_ciel = cov.iloc[0,2]\n",
    "cov_with_market_oi = cov.iloc[1,2]"
   ]
  },
  {
   "cell_type": "code",
   "execution_count": 6,
   "metadata": {},
   "outputs": [
    {
     "data": {
      "text/plain": [
       "0.05491520193744698"
      ]
     },
     "execution_count": 6,
     "metadata": {},
     "output_type": "execute_result"
    }
   ],
   "source": [
    "mercado_variancia = retorno['^BVSP'].var() * 250\n",
    "mercado_variancia"
   ]
  },
  {
   "cell_type": "markdown",
   "metadata": {},
   "source": [
    "BETA"
   ]
  },
  {
   "cell_type": "code",
   "execution_count": 31,
   "metadata": {},
   "outputs": [],
   "source": [
    "def analiseBeta(beta):\n",
    "\n",
    "    if beta == 0:\n",
    "        return \"Nenhuma Relação com o mercado\"\n",
    "\n",
    "    if beta > 1:\n",
    "        return \"É uma ação agressiva\"\n",
    "\n",
    "    return \"É uma ação defensiva\""
   ]
  },
  {
   "cell_type": "code",
   "execution_count": 39,
   "metadata": {},
   "outputs": [
    {
     "name": "stdout",
     "output_type": "stream",
     "text": [
      "Cielo 0.5747546796161821: É uma ação defensiva\n",
      "Oi 0.9010006991771453: É uma ação defensiva\n"
     ]
    }
   ],
   "source": [
    "ciel_beta = cov_with_market_ciel / mercado_variancia\n",
    "oi_beta = cov_with_market_oi / mercado_variancia\n",
    "\n",
    "print(\"Cielo \"+ str(ciel_beta) +\": \" + analiseBeta(ciel_beta))\n",
    "print(\"Oi \"+ str(oi_beta) +\": \" + analiseBeta(oi_beta))"
   ]
  },
  {
   "cell_type": "markdown",
   "metadata": {},
   "source": [
    "# CAPM - Retorno esperado"
   ]
  },
  {
   "cell_type": "code",
   "execution_count": 40,
   "metadata": {},
   "outputs": [
    {
     "name": "stdout",
     "output_type": "stream",
     "text": [
      "Ciel CAPM 5.024 %\n",
      "Oi CAPM 6.654999999999999 %\n"
     ]
    }
   ],
   "source": [
    "selic = 0.0215\n",
    "\n",
    "CIEL_CAPM = selic + ciel_beta * 0.05\n",
    "OI_CAPM = selic + oi_beta * 0.05\n",
    "\n",
    "print(\"Ciel CAPM \" + str(round(CIEL_CAPM, 5) * 100) + \" %\")\n",
    "print(\"Oi CAPM \" + str(round(OI_CAPM, 5) * 100) + \" %\")"
   ]
  },
  {
   "cell_type": "markdown",
   "metadata": {},
   "source": [
    "# Indice Sharpe"
   ]
  },
  {
   "cell_type": "code",
   "execution_count": 41,
   "metadata": {},
   "outputs": [
    {
     "name": "stdout",
     "output_type": "stream",
     "text": [
      "CIEL Indice Sharpe 0.097\n",
      "OI Indice Sharpe 0.061\n"
     ]
    }
   ],
   "source": [
    "ciel_sharpe = (CIEL_CAPM - selic) / (retorno['CIEL3.SA'].std() * (250 ** 0.5))\n",
    "oi_sharpe = (OI_CAPM - selic) / (retorno['OIBR3.SA'].std() * (250 ** 0.5))\n",
    "\n",
    "print(\"CIEL Indice Sharpe \"+str(round(ciel_sharpe, 3)))\n",
    "print(\"OI Indice Sharpe \"+str(round(oi_sharpe, 3)))"
   ]
  },
  {
   "cell_type": "code",
   "execution_count": null,
   "metadata": {},
   "outputs": [],
   "source": []
  }
 ],
 "metadata": {
  "kernelspec": {
   "display_name": "Python 3",
   "language": "python",
   "name": "python3"
  },
  "language_info": {
   "codemirror_mode": {
    "name": "ipython",
    "version": 3
   },
   "file_extension": ".py",
   "mimetype": "text/x-python",
   "name": "python",
   "nbconvert_exporter": "python",
   "pygments_lexer": "ipython3",
   "version": "3.7.6"
  }
 },
 "nbformat": 4,
 "nbformat_minor": 4
}
